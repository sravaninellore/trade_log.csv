{
  "nbformat": 4,
  "nbformat_minor": 0,
  "metadata": {
    "colab": {
      "provenance": [],
      "authorship_tag": "ABX9TyMuOwJa6me87KuQdasWELcU",
      "include_colab_link": true
    },
    "kernelspec": {
      "name": "python3",
      "display_name": "Python 3"
    },
    "language_info": {
      "name": "python"
    }
  },
  "cells": [
    {
      "cell_type": "markdown",
      "metadata": {
        "id": "view-in-github",
        "colab_type": "text"
      },
      "source": [
        "<a href=\"https://colab.research.google.com/github/sravaninellore/trade_log.csv/blob/main/Untitled14.ipynb\" target=\"_parent\"><img src=\"https://colab.research.google.com/assets/colab-badge.svg\" alt=\"Open In Colab\"/></a>"
      ]
    },
    {
      "cell_type": "code",
      "execution_count": null,
      "metadata": {
        "id": "EamUIm1eGgrV"
      },
      "outputs": [],
      "source": [
        "import pandas as pd\n",
        "import numpy as np\n",
        "\n",
        "# Read the data from the CSV file\n",
        "df = pd.read_csv('tradelog.csv')\n"
      ]
    },
    {
      "cell_type": "code",
      "source": [
        "# Set the initial portfolio value and risk-free interest rate\n",
        "initial_value = 200000\n",
        "risk_free_rate = 0.05\n",
        "\n"
      ],
      "metadata": {
        "id": "41d9A1XYG18I"
      },
      "execution_count": null,
      "outputs": []
    },
    {
      "cell_type": "code",
      "source": [
        "# Calculate the total trades\n",
        "import csv\n",
        "\n",
        "total_trades = 0\n",
        "\n",
        "with open('tradelog.csv', 'r') as file:\n",
        "    reader = csv.reader(file)\n",
        "    next(reader) # skip the header row\n",
        "    for row in reader:\n",
        "        total_trades += 1\n",
        "\n",
        "print(f\"Total Trades: {total_trades}\")\n"
      ],
      "metadata": {
        "colab": {
          "base_uri": "https://localhost:8080/"
        },
        "id": "Bt3-ReZYHAqZ",
        "outputId": "7adfe375-2ad6-4a71-893f-27e178b3ecee"
      },
      "execution_count": null,
      "outputs": [
        {
          "output_type": "stream",
          "name": "stdout",
          "text": [
            "Total Trades: 249\n"
          ]
        }
      ]
    },
    {
      "cell_type": "code",
      "source": [
        "#Calculate the Profitable Trades\n",
        "#Import the necessary libraries and load the data from the CSV file\n",
        "import pandas as pd\n",
        "\n",
        "# Read the trade log data into a pandas DataFrame\n",
        "df = pd.read_csv('tradelog.csv')\n",
        "\n",
        "# Calculate the profit/loss for each trade\n",
        "df['Profit/Loss'] = df['Exit Price'] - df['Entry Price']\n",
        "\n",
        "# Create a new column indicating if the trade was profitable or not\n",
        "df['Profitable'] = df['Profit/Loss'] > 0\n",
        "\n",
        "# Calculate the number of profitable trades\n",
        "num_profitable_trades = df['Profitable'].sum()\n",
        "\n",
        "print(\"Number of profitable trades:\", num_profitable_trades)\n"
      ],
      "metadata": {
        "colab": {
          "base_uri": "https://localhost:8080/"
        },
        "id": "E1Cz_W76MDVO",
        "outputId": "bee02fa4-d85a-4d99-9c43-e6582d73567f"
      },
      "execution_count": null,
      "outputs": [
        {
          "output_type": "stream",
          "name": "stdout",
          "text": [
            "Number of profitable trades: 96\n"
          ]
        }
      ]
    },
    {
      "cell_type": "code",
      "source": [
        "#Calculate the Loss-Making Trades\n",
        "#Import the necessary libraries and load the data from the CSV file\n",
        "import pandas as pd\n",
        "\n",
        "# Load the trade log from the CSV file\n",
        "trade_log = pd.read_csv('tradelog.csv')\n",
        "\n",
        "# Calculate the profit/loss for each trade\n",
        "trade_log['Profit/Loss'] = trade_log['Exit Price'] - trade_log['Entry Price']\n",
        "\n",
        "# Determine whether each trade was profitable or not\n",
        "trade_log['Profitable'] = trade_log['Profit/Loss'] > 0\n",
        "\n",
        "# Count the number of loss-making trades\n",
        "num_loss_making_trades = len(trade_log[trade_log['Profitable'] == False])\n",
        "\n",
        "print('Number of loss-making trades:', num_loss_making_trades)\n"
      ],
      "metadata": {
        "colab": {
          "base_uri": "https://localhost:8080/"
        },
        "id": "dcaWnCMQMW-l",
        "outputId": "4f2955be-5ba1-45c7-f61e-a977ae5ebab3"
      },
      "execution_count": null,
      "outputs": [
        {
          "output_type": "stream",
          "name": "stdout",
          "text": [
            "Number of loss-making trades: 153\n"
          ]
        }
      ]
    },
    {
      "cell_type": "code",
      "source": [
        "#Calculate the Win rate\n",
        "#Import the necessary libraries and load the data from the CSV file\n",
        "import pandas as pd\n",
        "\n",
        "# Load the trade data from the CSV file\n",
        "trades = pd.read_csv('tradelog.csv')\n",
        "\n",
        "# Calculate the profit/loss for each trade\n",
        "trades['P/L'] = (trades['Exit Price'] - trades['Entry Price']) * 1000\n",
        "\n",
        "# Calculate the total profit/loss for all trades\n",
        "total_pl = trades['P/L'].sum()\n",
        "\n",
        "# Calculate the number of profitable trades\n",
        "num_profitable_trades = (trades['P/L'] > 0).sum()\n",
        "\n",
        "# Calculate the total number of trades\n",
        "num_trades = len(trades)\n",
        "\n",
        "# Calculate the Win Rate\n",
        "win_rate = num_profitable_trades / num_trades\n",
        "\n",
        "print(f\"Win Rate: {win_rate:.2%}\")\n"
      ],
      "metadata": {
        "colab": {
          "base_uri": "https://localhost:8080/"
        },
        "id": "nZezRxgnMm_Q",
        "outputId": "a8ed0f6d-c36a-42c9-b1f4-c5b18fed9226"
      },
      "execution_count": null,
      "outputs": [
        {
          "output_type": "stream",
          "name": "stdout",
          "text": [
            "Win Rate: 38.55%\n"
          ]
        }
      ]
    },
    {
      "cell_type": "code",
      "source": [
        "#Calculate the Average Profit per trade\n",
        "#Import the necessary libraries and load the data from the CSV file\n",
        "import pandas as pd\n",
        "\n",
        "# Load the trade log data from the CSV file\n",
        "trade_log = pd.read_csv('tradelog.csv')\n",
        "\n",
        "# Calculate the profit for each trade\n",
        "trade_log['Profit'] = (trade_log['Exit Price'] - trade_log['Entry Price']) * 100\n",
        "\n",
        "# Calculate the total profit and number of trades\n",
        "total_profit = trade_log['Profit'].sum()\n",
        "num_trades = len(trade_log)\n",
        "\n",
        "# Calculate the average profit per trade\n",
        "avg_profit_per_trade = total_profit / num_trades\n",
        "\n",
        "print(\"Average Profit per trade: Rs\", round(avg_profit_per_trade, 2))\n"
      ],
      "metadata": {
        "colab": {
          "base_uri": "https://localhost:8080/"
        },
        "id": "lhuMViXUM98r",
        "outputId": "539eac16-6910-46a9-8c0e-7ff805532928"
      },
      "execution_count": null,
      "outputs": [
        {
          "output_type": "stream",
          "name": "stdout",
          "text": [
            "Average Profit per trade: Rs -606.59\n"
          ]
        }
      ]
    },
    {
      "cell_type": "code",
      "source": [
        "#Calculate the Average Loss per trade\n",
        "#Import the necessary libraries and load the data from the CSV file\n",
        "import pandas as pd\n",
        "\n",
        "# read the csv file into a pandas dataframe\n",
        "df = pd.read_csv('tradelog.csv')\n",
        "\n",
        "# calculate the profit or loss for each trade\n",
        "df['P/L'] = (df['Exit Price'] - df['Entry Price']) * (df['Ticker'].apply(lambda x: 1 if x == 'BUY' else -1))\n",
        "\n",
        "# calculate the average loss per trade\n",
        "total_loss = df[df['P/L'] < 0]['P/L'].sum()\n",
        "num_losses = len(df[df['P/L'] < 0])\n",
        "avg_loss_per_trade = total_loss / num_losses\n",
        "\n",
        "print('Average Loss per trade:', avg_loss_per_trade)\n",
        "\n"
      ],
      "metadata": {
        "colab": {
          "base_uri": "https://localhost:8080/"
        },
        "id": "IwXdO_BGNOgh",
        "outputId": "3d93035a-b97b-406f-8ca9-4c6fad6cc800"
      },
      "execution_count": null,
      "outputs": [
        {
          "output_type": "stream",
          "name": "stdout",
          "text": [
            "Average Loss per trade: -105.54375\n"
          ]
        }
      ]
    },
    {
      "cell_type": "code",
      "source": [
        "#Calculate the Risk Reward ratio \n",
        "#Import the necessary libraries and load the data from the CSV file\n",
        "import pandas as pd\n",
        "\n",
        "# Load the tradelog data from the CSV file\n",
        "tradelog = pd.read_csv('tradelog.csv')\n",
        "\n",
        "# Calculate the profit/loss for each trade\n",
        "tradelog['Profit/Loss'] = tradelog['Exit Price'] - tradelog['Entry Price']\n",
        "\n",
        "# Filter out the losing trades\n",
        "winning_trades = tradelog[tradelog['Profit/Loss'] > 0]\n",
        "\n",
        "# Calculate the average profit for the winning trades\n",
        "average_profit = winning_trades['Profit/Loss'].mean()\n",
        "\n",
        "# Filter out the winning trades\n",
        "losing_trades = tradelog[tradelog['Profit/Loss'] < 0]\n",
        "\n",
        "# Calculate the average loss for the losing trades\n",
        "average_loss = losing_trades['Profit/Loss'].mean()\n",
        "\n",
        "# Calculate the Risk Reward Ratio\n",
        "risk_reward_ratio = abs(average_profit / average_loss)\n",
        "\n",
        "# Print the Risk Reward Ratio\n",
        "print('Risk Reward Ratio:', risk_reward_ratio)\n"
      ],
      "metadata": {
        "colab": {
          "base_uri": "https://localhost:8080/"
        },
        "id": "50kCKlaUNxVt",
        "outputId": "04b6d3b0-06df-4017-fc2e-2af91f244c2e"
      },
      "execution_count": null,
      "outputs": [
        {
          "output_type": "stream",
          "name": "stdout",
          "text": [
            "Risk Reward Ratio: 1.3869920593338259\n"
          ]
        }
      ]
    },
    {
      "cell_type": "code",
      "source": [
        "#Calculate the Expectancy\n",
        "#Import the necessary libraries and load the data from the CSV file\n",
        "import pandas as pd\n",
        "import numpy as np\n",
        "# calculate win rate\n",
        "win_rate = len(df[df[\"Exit Price\"] > df[\"Entry Price\"]]) / len(df)\n",
        "# calculate average profit and average loss\n",
        "winning_trades = df[df[\"Exit Price\"] > df[\"Entry Price\"]]\n",
        "losing_trades = df[df[\"Exit Price\"] <= df[\"Entry Price\"]]\n",
        "\n",
        "average_profit = np.mean(winning_trades[\"Exit Price\"] - winning_trades[\"Entry Price\"])\n",
        "average_loss = np.mean(losing_trades[\"Entry Price\"] - losing_trades[\"Exit Price\"])\n",
        "# calculate loss rate\n",
        "loss_rate = 1 - win_rate\n",
        "# calculate expectancy\n",
        "expectancy = (win_rate * average_profit) - (loss_rate * average_loss)\n",
        "print(\"Expectancy:\", expectancy)\n",
        "\n",
        "\n"
      ],
      "metadata": {
        "colab": {
          "base_uri": "https://localhost:8080/"
        },
        "id": "gAWl8YaTOAxv",
        "outputId": "4310b9a8-8309-40f2-eb89-a5220210f4a9"
      },
      "execution_count": null,
      "outputs": [
        {
          "output_type": "stream",
          "name": "stdout",
          "text": [
            "Expectancy: -6.065863453815254\n"
          ]
        }
      ]
    },
    {
      "cell_type": "code",
      "source": [
        "#Calculate the Average ROR per trade \n",
        "#Import the necessary libraries and load the data from the CSV file\n",
        "import pandas as pd\n",
        "import numpy as np\n",
        "\n",
        "# Read the CSV file containing the trade data\n",
        "df = pd.read_csv('tradelog.csv')\n",
        "\n",
        "# Calculate the holding period returns for each trade\n",
        "df['holding_period_return'] = (df['Exit Price'] - df['Entry Price']) / df['Entry Price']\n",
        "\n",
        "# Initialize the portfolio value to Rs 2,00,000\n",
        "portfolio_value = 200000\n",
        "\n",
        "# Calculate the portfolio value for each trade\n",
        "df['portfolio_value'] = portfolio_value * (1 + df['holding_period_return']).cumprod()\n",
        "\n",
        "# Calculate the daily returns of the portfolio\n",
        "df['daily_return'] = df['portfolio_value'].pct_change()\n",
        "\n",
        "# Calculate the average daily return\n",
        "avg_daily_return = np.mean(df['daily_return'])\n",
        "\n",
        "# Calculate the standard deviation of daily returns\n",
        "std_daily_return = np.std(df['daily_return'])\n",
        "\n",
        "# Calculate the average ROR per trade\n",
        "avg_ROR_per_trade = (avg_daily_return - 0.05 / 252) / std_daily_return\n",
        "\n",
        "print(\"Average ROR per trade: \", avg_ROR_per_trade)\n"
      ],
      "metadata": {
        "colab": {
          "base_uri": "https://localhost:8080/"
        },
        "id": "FKSMCisDO1SE",
        "outputId": "44af48bc-1c48-4d44-8a18-93de549a5c6b"
      },
      "execution_count": null,
      "outputs": [
        {
          "output_type": "stream",
          "name": "stdout",
          "text": [
            "Average ROR per trade:  -0.04993360669414496\n"
          ]
        }
      ]
    },
    {
      "cell_type": "code",
      "source": [
        "#Calculate the Sharpe Ratio  \n",
        "#Import the necessary libraries and load the data from the CSV file\n",
        "import pandas as pd\n",
        "import numpy as np\n",
        "df = pd.read_csv('tradelog.csv')\n",
        "#Calculate the daily returns for each trade by using the entry and exit prices\n",
        "df['Return'] = (df['Exit Price'] - df['Entry Price']) / df['Entry Price']\n",
        "#Calculate the cumulative returns for each trade\n",
        "df['Cumulative Return'] = (1 + df['Return']).cumprod()\n",
        "#Calculate the overall portfolio return by multiplying the cumulative returns of all trades\n",
        "portfolio_return = df['Cumulative Return'].iloc[-1] - 1\n",
        "#Calculate the daily returns of the portfolio\n",
        "df['Portfolio Return'] = df['Return'] * 200000 / len(df)\n",
        "#Calculate the standard deviation of the daily returns\n",
        "portfolio_std = np.std(df['Portfolio Return'])\n",
        "#Calculate the Sharpe Ratio\n",
        "risk_free_rate = 0.05 / 252 # assuming 252 trading days in a year\n",
        "sharpe_ratio = (portfolio_return - risk_free_rate) / portfolio_std\n",
        "\n"
      ],
      "metadata": {
        "id": "0F5aYyCqQgpZ"
      },
      "execution_count": null,
      "outputs": []
    },
    {
      "cell_type": "code",
      "source": [
        "#Calculate the Max  Drawdown\n",
        "#Import the necessary libraries and load the data from the CSV file\n",
        "import pandas as pd\n",
        "import numpy as np\n",
        "\n",
        "# Read the CSV file\n",
        "trades_df = pd.read_csv(\"tradelog.csv\")\n",
        "\n",
        "# Calculate daily returns\n",
        "trades_df[\"Daily Returns\"] = np.where(trades_df[\"Exit Time\"].notnull(),\n",
        "                                       (trades_df[\"Exit Price\"] - trades_df[\"Entry Price\"]) / trades_df[\"Entry Price\"],\n",
        "                                       0)\n",
        "\n",
        "# Calculate cumulative returns\n",
        "trades_df[\"Cumulative Returns\"] = (1 + trades_df[\"Daily Returns\"]).cumprod()\n",
        "\n",
        "# Calculate running maximum\n",
        "trades_df[\"Running Maximum\"] = trades_df[\"Cumulative Returns\"].cummax()\n",
        "\n",
        "# Calculate drawdown\n",
        "trades_df[\"Drawdown\"] = trades_df[\"Running Maximum\"] - trades_df[\"Cumulative Returns\"]\n",
        "\n",
        "# Calculate maximum drawdown\n",
        "max_drawdown = trades_df[\"Drawdown\"].max()\n",
        "\n",
        "# Print the result\n",
        "print(\"Maximum Drawdown: {:.2%}\".format(max_drawdown))\n",
        "\n"
      ],
      "metadata": {
        "colab": {
          "base_uri": "https://localhost:8080/"
        },
        "id": "ubrYEheJR-jM",
        "outputId": "f8b6d57e-81c9-4f5d-bdba-f8ce7e2998af"
      },
      "execution_count": null,
      "outputs": [
        {
          "output_type": "stream",
          "name": "stdout",
          "text": [
            "Maximum Drawdown: 54.91%\n"
          ]
        }
      ]
    },
    {
      "cell_type": "code",
      "source": [
        "#Calculate the Max Drawdown Percentage\n",
        "#Import the necessary libraries and load the data from the CSV file\n",
        "import pandas as pd\n",
        "import numpy as np\n",
        "# Load trade log data from CSV file\n",
        "df = pd.read_csv('tradelog.csv')\n",
        "# Convert the 'Entry Time' and 'Exit Time' columns to datetime format\n",
        "df['Entry Time'] = pd.to_datetime(df['Entry Time'])\n",
        "df['Exit Time'] = pd.to_datetime(df['Exit Time'])\n",
        "\n",
        "# Set the 'Entry Time' and 'Exit Time' columns as the index of the DataFrame\n",
        "df.set_index(['Entry Time', 'Exit Time'], inplace=True)\n",
        "\n",
        "# Calculate the daily returns of the strategy\n",
        "df['Returns'] = df['Exit Price'] / df['Entry Price'] - 1\n",
        "\n",
        "# Calculate the cumulative returns of the strategy\n",
        "df['Cumulative Returns'] = (1 + df['Returns']).cumprod()\n",
        "\n",
        "# Calculate the maximum cumulative returns reached so far\n",
        "df['Max Cumulative Returns'] = df['Cumulative Returns'].cummax()\n",
        "\n",
        "# Calculate the drawdowns\n",
        "df['Drawdown'] = df['Max Cumulative Returns'] - df['Cumulative Returns']\n",
        "\n",
        "# Calculate the maximum drawdown percentage\n",
        "max_drawdown_pct = df['Drawdown'].max() / df['Max Cumulative Returns'].max() * 100\n",
        "print(f\"Max Drawdown Percentage: {max_drawdown_pct:.2f}%\")\n",
        "\n"
      ],
      "metadata": {
        "colab": {
          "base_uri": "https://localhost:8080/"
        },
        "id": "ht_zaJgRT2_7",
        "outputId": "e7277547-ac5c-4841-963e-e4e88c372b7c"
      },
      "execution_count": null,
      "outputs": [
        {
          "output_type": "stream",
          "name": "stdout",
          "text": [
            "Max Drawdown Percentage: 100.00%\n"
          ]
        }
      ]
    },
    {
      "cell_type": "code",
      "source": [
        "#Calculate the CAGR\n",
        "#Import the necessary libraries and load the data from the CSV file\n",
        "import pandas as pd\n",
        "\n",
        "# Read the CSV file\n",
        "df = pd.read_csv(\"tradelog.csv\")\n",
        "\n",
        "# Filter the trades to only include the ones with valid entry and exit prices\n",
        "df = df.dropna(subset=[\"Entry Price\", \"Exit Price\"])\n",
        "\n",
        "# Calculate the percentage returns for each trade\n",
        "df[\"Percentage Return\"] = ((df[\"Exit Price\"] - df[\"Entry Price\"]) / df[\"Entry Price\"]) * 100\n",
        "\n",
        "# Calculate the total return for all trades combined\n",
        "total_return = (1 + (df[\"Percentage Return\"].sum() / 100))\n",
        "\n",
        "# Calculate the number of periods\n",
        "number_of_periods = len(df)\n",
        "\n",
        "# Calculate the CAGR\n",
        "cagr = (total_return ** (1/number_of_periods)) - 1\n",
        "\n",
        "# Calculate the ending value\n",
        "ending_value = 200000 * (1 + cagr) ** number_of_periods\n",
        "\n",
        "# Print the results\n",
        "print(\"CAGR:\", round(cagr*100, 2), \"%\")\n",
        "print(\"Ending Value:\", round(ending_value, 2))\n"
      ],
      "metadata": {
        "colab": {
          "base_uri": "https://localhost:8080/"
        },
        "id": "YOr9oSqjUh0E",
        "outputId": "d834e2c1-cbfb-4662-c926-33275c9ec27c"
      },
      "execution_count": null,
      "outputs": [
        {
          "output_type": "stream",
          "name": "stdout",
          "text": [
            "CAGR: nan %\n",
            "Ending Value: nan\n"
          ]
        },
        {
          "output_type": "stream",
          "name": "stderr",
          "text": [
            "<ipython-input-55-ec34cca46940>:21: RuntimeWarning: invalid value encountered in double_scalars\n",
            "  cagr = (total_return ** (1/number_of_periods)) - 1\n"
          ]
        }
      ]
    },
    {
      "cell_type": "code",
      "source": [
        "#Calculate the Calmar Ratio\n",
        "#Import the necessary libraries and load the data from the CSV file\n",
        "import pandas as pd\n",
        "import numpy as np\n",
        "\n",
        "# Load the trade log from the CSV file\n",
        "df = pd.read_csv('tradelog.csv')\n",
        "\n",
        "# Calculate the portfolio value for each trade\n",
        "df['Portfolio Value'] = 200000\n",
        "\n",
        "for i in range(len(df)):\n",
        "    if i == 0:\n",
        "        df.loc[i, 'Portfolio Value'] = 200000 * (1 + df.loc[i, 'Exit Price']/df.loc[i, 'Entry Price'] - 0.0005)\n",
        "    else:\n",
        "        df.loc[i, 'Portfolio Value'] = df.loc[i-1, 'Portfolio Value'] * (1 + df.loc[i, 'Exit Price']/df.loc[i, 'Entry Price'] - 0.0005)\n",
        "\n",
        "# Calculate the total return of the strategy\n",
        "total_return = (df['Portfolio Value'].iloc[-1] - 200000) / 200000\n",
        "\n",
        "# Calculate the maximum drawdown\n",
        "cumulative_returns = (df['Portfolio Value'] - 200000) / 200000\n",
        "rolling_max = cumulative_returns.rolling(window=len(cumulative_returns), min_periods=1).max()\n",
        "drawdown = rolling_max - cumulative_returns\n",
        "max_drawdown = drawdown.max()\n",
        "\n",
        "# Calculate the Calmar ratio\n",
        "calmar_ratio = total_return / max_drawdown\n",
        "\n",
        "print('Calmar ratio: %.2f' % calmar_ratio)\n"
      ],
      "metadata": {
        "colab": {
          "base_uri": "https://localhost:8080/"
        },
        "id": "cVrMb78eXduS",
        "outputId": "ad5314a9-7419-445a-8ee1-55134e1f56a8"
      },
      "execution_count": null,
      "outputs": [
        {
          "output_type": "stream",
          "name": "stdout",
          "text": [
            "Calmar ratio: inf\n"
          ]
        },
        {
          "output_type": "stream",
          "name": "stderr",
          "text": [
            "<ipython-input-62-82d0526dd579>:28: RuntimeWarning: divide by zero encountered in double_scalars\n",
            "  calmar_ratio = total_return / max_drawdown\n"
          ]
        }
      ]
    }
  ]
}